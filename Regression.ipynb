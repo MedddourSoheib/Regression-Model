{
 "cells": [
  {
   "cell_type": "code",
   "execution_count": 12,
   "id": "efe59cf8-5f5c-42e2-abd7-b1016f15b4c0",
   "metadata": {},
   "outputs": [],
   "source": [
    "import numpy as np\n",
    "from sklearn.datasets import make_regression \n",
    "import matplotlib.pyplot as plt\n",
    "\n"
   ]
  },
  {
   "cell_type": "code",
   "execution_count": 14,
   "id": "dce17f0f-99dc-4a49-854e-222f34ba81d6",
   "metadata": {},
   "outputs": [],
   "source": [
    "x,y =make_regression(n_samples=100, n_features=1, noise=10)"
   ]
  },
  {
   "cell_type": "code",
   "execution_count": 16,
   "id": "f22e9c79-42f0-41cc-8762-f38206a117b4",
   "metadata": {},
   "outputs": [
    {
     "data": {
      "text/plain": [
       "<matplotlib.collections.PathCollection at 0x236f498c830>"
      ]
     },
     "execution_count": 16,
     "metadata": {},
     "output_type": "execute_result"
    },
    {
     "data": {
      "image/png": "[encoded data removed]",
      "text/plain": [
       "<Figure size 640x480 with 1 Axes>"
      ]
     },
     "metadata": {},
     "output_type": "display_data"
    }
   ],
   "source": [
    "plt.scatter(x,y)"
   ]
  },
  {
   "cell_type": "code",
   "execution_count": 26,
   "id": "89b78fda-0a59-489a-ac87-ca48491ba279",
   "metadata": {},
   "outputs": [
    {
     "name": "stdout",
     "output_type": "stream",
     "text": [
      "(100, 1)\n",
      "(100, 1)\n"
     ]
    }
   ],
   "source": [
    " print(x.shape)\n",
    "y=y.reshape(y.shape[0],1)\n",
    " print(y.shape)"
   ]
  },
  {
   "cell_type": "code",
   "execution_count": 28,
   "id": "48b695fe-345f-4545-bfb4-8507ec372dcb",
   "metadata": {},
   "outputs": [],
   "source": [
    "#matrice X\n",
    "X=np.hstack((x,np.ones(x.shape)))"
   ]
  },
  {
   "cell_type": "code",
   "execution_count": 30,
   "id": "aa52daf5-29b0-4fe8-aa96-ad720ed1216b",
   "metadata": {},
   "outputs": [
    {
     "data": {
      "text/plain": [
       "array([[-1.876186  ,  1.        ],\n",
       "       [ 1.17196349,  1.        ],\n",
       "       [-0.91988149,  1.        ],\n",
       "       [-0.1946305 ,  1.        ],\n",
       "       [ 1.33699092,  1.        ],\n",
       "       [-1.09145558,  1.        ],\n",
       "       [ 0.9865319 ,  1.        ],\n",
       "       [ 0.8507555 ,  1.        ],\n",
       "       [ 0.29068853,  1.        ],\n",
       "       [-0.08482152,  1.        ],\n",
       "       [-0.58621947,  1.        ],\n",
       "       [ 0.30114039,  1.        ],\n",
       "       [-0.86743006,  1.        ],\n",
       "       [ 0.93933488,  1.        ],\n",
       "       [ 0.7101857 ,  1.        ],\n",
       "       [-1.21801238,  1.        ],\n",
       "       [-0.99661486,  1.        ],\n",
       "       [ 0.41977366,  1.        ],\n",
       "       [-1.70861936,  1.        ],\n",
       "       [ 1.62530792,  1.        ],\n",
       "       [ 0.14080035,  1.        ],\n",
       "       [-2.31342545,  1.        ],\n",
       "       [-0.58861614,  1.        ],\n",
       "       [ 0.24206794,  1.        ],\n",
       "       [ 1.23502342,  1.        ],\n",
       "       [-0.26716272,  1.        ],\n",
       "       [ 0.22802878,  1.        ],\n",
       "       [-0.44325163,  1.        ],\n",
       "       [-0.18696525,  1.        ],\n",
       "       [-1.9560799 ,  1.        ],\n",
       "       [ 1.40052436,  1.        ],\n",
       "       [-0.71834041,  1.        ],\n",
       "       [-0.49075408,  1.        ],\n",
       "       [-0.44613583,  1.        ],\n",
       "       [-1.17962968,  1.        ],\n",
       "       [ 0.92089848,  1.        ],\n",
       "       [-0.38572672,  1.        ],\n",
       "       [-0.31681692,  1.        ],\n",
       "       [ 0.05944646,  1.        ],\n",
       "       [-0.0186893 ,  1.        ],\n",
       "       [ 0.51400854,  1.        ],\n",
       "       [-0.88344552,  1.        ],\n",
       "       [-0.4838543 ,  1.        ],\n",
       "       [ 0.85721048,  1.        ],\n",
       "       [ 0.05421995,  1.        ],\n",
       "       [ 0.49830241,  1.        ],\n",
       "       [-1.25747487,  1.        ],\n",
       "       [ 0.11665592,  1.        ],\n",
       "       [-1.18967462,  1.        ],\n",
       "       [-1.64710645,  1.        ],\n",
       "       [-0.83266951,  1.        ],\n",
       "       [ 0.2450226 ,  1.        ],\n",
       "       [-0.77783247,  1.        ],\n",
       "       [-0.17288705,  1.        ],\n",
       "       [-1.20460117,  1.        ],\n",
       "       [ 0.79074105,  1.        ],\n",
       "       [ 1.97876504,  1.        ],\n",
       "       [ 0.40196001,  1.        ],\n",
       "       [-0.38093908,  1.        ],\n",
       "       [-1.27607997,  1.        ],\n",
       "       [-0.23519497,  1.        ],\n",
       "       [-0.22179846,  1.        ],\n",
       "       [-0.42785939,  1.        ],\n",
       "       [ 3.00105494,  1.        ],\n",
       "       [-1.22885516,  1.        ],\n",
       "       [ 0.56358795,  1.        ],\n",
       "       [ 0.10389478,  1.        ],\n",
       "       [ 0.99353083,  1.        ],\n",
       "       [ 0.82950152,  1.        ],\n",
       "       [ 0.52310533,  1.        ],\n",
       "       [-0.11755405,  1.        ],\n",
       "       [ 0.33881455,  1.        ],\n",
       "       [ 0.09209886,  1.        ],\n",
       "       [-0.84764767,  1.        ],\n",
       "       [-0.46748732,  1.        ],\n",
       "       [ 0.37986309,  1.        ],\n",
       "       [ 2.26759703,  1.        ],\n",
       "       [ 1.07318584,  1.        ],\n",
       "       [ 0.84819053,  1.        ],\n",
       "       [-0.63096333,  1.        ],\n",
       "       [-0.48615962,  1.        ],\n",
       "       [ 0.39342281,  1.        ],\n",
       "       [ 0.68759132,  1.        ],\n",
       "       [-1.33000572,  1.        ],\n",
       "       [-1.88161609,  1.        ],\n",
       "       [ 2.95089519,  1.        ],\n",
       "       [-0.90473965,  1.        ],\n",
       "       [-0.88991728,  1.        ],\n",
       "       [-1.23126572,  1.        ],\n",
       "       [ 1.86460204,  1.        ],\n",
       "       [ 0.57714573,  1.        ],\n",
       "       [ 0.72656219,  1.        ],\n",
       "       [-0.36216183,  1.        ],\n",
       "       [-0.38115989,  1.        ],\n",
       "       [-0.03492938,  1.        ],\n",
       "       [-0.32537482,  1.        ],\n",
       "       [ 1.46160798,  1.        ],\n",
       "       [ 1.33710955,  1.        ],\n",
       "       [ 0.31594328,  1.        ],\n",
       "       [-0.11538419,  1.        ]])"
      ]
     },
     "execution_count": 30,
     "metadata": {},
     "output_type": "execute_result"
    }
   ],
   "source": [
    "X"
   ]
  },
  {
   "cell_type": "code",
   "execution_count": 32,
   "id": "b865b211-ae71-4f6e-b796-638dc3099851",
   "metadata": {},
   "outputs": [
    {
     "data": {
      "text/plain": [
       "(2, 1)"
      ]
     },
     "execution_count": 32,
     "metadata": {},
     "output_type": "execute_result"
    }
   ],
   "source": [
    "theta =np.random.randn(2,1)\n",
    "theta.shape"
   ]
  },
  {
   "cell_type": "code",
   "execution_count": 34,
   "id": "318147de-7a57-4e3a-9c42-fe76810ff699",
   "metadata": {},
   "outputs": [
    {
     "data": {
      "text/plain": [
       "array([[-1.08594624],\n",
       "       [ 1.79964873]])"
      ]
     },
     "execution_count": 34,
     "metadata": {},
     "output_type": "execute_result"
    }
   ],
   "source": [
    "theta"
   ]
  },
  {
   "cell_type": "code",
   "execution_count": 40,
   "id": "3145127b-b7ed-43b3-9b02-e1833c7ee8da",
   "metadata": {},
   "outputs": [],
   "source": [
    "def model(X, theta): \n",
    "    return X.dot(theta)"
   ]
  },
  {
   "cell_type": "code",
   "execution_count": 42,
   "id": "0ea56597-5de6-4763-92f4-ae41b8170426",
   "metadata": {},
   "outputs": [
    {
     "data": {
      "text/plain": [
       "array([[ 3.83708586],\n",
       "       [ 0.52695939],\n",
       "       [ 2.79859057],\n",
       "       [ 2.01100699],\n",
       "       [ 0.34774847],\n",
       "       [ 2.98491082],\n",
       "       [ 0.72832813],\n",
       "       [ 0.875774  ],\n",
       "       [ 1.48397661],\n",
       "       [ 1.89176034],\n",
       "       [ 2.43625156],\n",
       "       [ 1.47262646],\n",
       "       [ 2.74163114],\n",
       "       [ 0.77958155],\n",
       "       [ 1.02842524],\n",
       "       [ 3.12234469],\n",
       "       [ 2.88191889],\n",
       "       [ 1.3437971 ],\n",
       "       [ 3.65511749],\n",
       "       [ 0.03465171],\n",
       "       [ 1.64674712],\n",
       "       [ 4.3119044 ],\n",
       "       [ 2.43885421],\n",
       "       [ 1.53677596],\n",
       "       [ 0.45847969],\n",
       "       [ 2.08977308],\n",
       "       [ 1.55202174],\n",
       "       [ 2.28099617],\n",
       "       [ 2.00268294],\n",
       "       [ 3.92384633],\n",
       "       [ 0.27875457],\n",
       "       [ 2.5797278 ],\n",
       "       [ 2.33258128],\n",
       "       [ 2.28412826],\n",
       "       [ 3.08066315],\n",
       "       [ 0.79960249],\n",
       "       [ 2.21852721],\n",
       "       [ 2.14369487],\n",
       "       [ 1.73509307],\n",
       "       [ 1.81994431],\n",
       "       [ 1.24146309],\n",
       "       [ 2.75902307],\n",
       "       [ 2.32508849],\n",
       "       [ 0.86876424],\n",
       "       [ 1.74076878],\n",
       "       [ 1.25851911],\n",
       "       [ 3.16519883],\n",
       "       [ 1.67296668],\n",
       "       [ 3.09157141],\n",
       "       [ 3.58831778],\n",
       "       [ 2.70388305],\n",
       "       [ 1.53356736],\n",
       "       [ 2.64433297],\n",
       "       [ 1.98739478],\n",
       "       [ 3.10778084],\n",
       "       [ 0.94094647],\n",
       "       [-0.34918372],\n",
       "       [ 1.36314177],\n",
       "       [ 2.21332809],\n",
       "       [ 3.18540297],\n",
       "       [ 2.05505782],\n",
       "       [ 2.04050993],\n",
       "       [ 2.26428102],\n",
       "       [-1.45933558],\n",
       "       [ 3.13411937],\n",
       "       [ 1.18762252],\n",
       "       [ 1.68682459],\n",
       "       [ 0.72072767],\n",
       "       [ 0.89885467],\n",
       "       [ 1.23158447],\n",
       "       [ 1.92730611],\n",
       "       [ 1.43171435],\n",
       "       [ 1.69963432],\n",
       "       [ 2.72014852],\n",
       "       [ 2.30731483],\n",
       "       [ 1.38713784],\n",
       "       [-0.66283974],\n",
       "       [ 0.63422661],\n",
       "       [ 0.87855941],\n",
       "       [ 2.48484098],\n",
       "       [ 2.32759194],\n",
       "       [ 1.37241271],\n",
       "       [ 1.05296152],\n",
       "       [ 3.24396344],\n",
       "       [ 3.84298264],\n",
       "       [-1.40486479],\n",
       "       [ 2.78214735],\n",
       "       [ 2.76605105],\n",
       "       [ 3.1367371 ],\n",
       "       [-0.22520883],\n",
       "       [ 1.1728995 ],\n",
       "       [ 1.01064125],\n",
       "       [ 2.19293701],\n",
       "       [ 2.21356788],\n",
       "       [ 1.83758016],\n",
       "       [ 2.15298829],\n",
       "       [ 0.21242104],\n",
       "       [ 0.34761965],\n",
       "       [ 1.45655132],\n",
       "       [ 1.92494976]])"
      ]
     },
     "execution_count": 42,
     "metadata": {},
     "output_type": "execute_result"
    }
   ],
   "source": [
    "model(X, theta)"
   ]
  },
  {
   "cell_type": "code",
   "execution_count": 44,
   "id": "e887efdc-72dd-4ca4-acf0-b22f0020b0a7",
   "metadata": {},
   "outputs": [
    {
     "data": {
      "text/plain": [
       "[<matplotlib.lines.Line2D at 0x236f9d5ca10>,\n",
       " <matplotlib.lines.Line2D at 0x236f9d15d60>]"
      ]
     },
     "execution_count": 44,
     "metadata": {},
     "output_type": "execute_result"
    },
    {
     "data": {
      "image/png": "[encoded data removed]",
      "text/plain": [
       "<Figure size 640x480 with 1 Axes>"
      ]
     },
     "metadata": {},
     "output_type": "display_data"
    }
   ],
   "source": [
    "plt.plot(X, model(X,theta))"
   ]
  },
  {
   "cell_type": "code",
   "execution_count": 46,
   "id": "c2debbfa-e3ae-4bb5-a46d-76734d2423f6",
   "metadata": {},
   "outputs": [
    {
     "data": {
      "text/plain": [
       "<matplotlib.collections.PathCollection at 0x236f9da6de0>"
      ]
     },
     "execution_count": 46,
     "metadata": {},
     "output_type": "execute_result"
    },
    {
     "data": {
      "image/png": "[encoded data removed]",
      "text/plain": [
       "<Figure size 640x480 with 1 Axes>"
      ]
     },
     "metadata": {},
     "output_type": "display_data"
    }
   ],
   "source": [
    "plt.scatter(x,y)"
   ]
  },
  {
   "cell_type": "code",
   "execution_count": 48,
   "id": "69da8e29-030d-4a39-a8f9-08672f3898e0",
   "metadata": {},
   "outputs": [],
   "source": [
    "def cost_function(X, y, theta):\n",
    "    m= len(y)\n",
    "    return 1/(2*m)*np.sum((model(X, theta)-y)**2)"
   ]
  },
  {
   "cell_type": "code",
   "execution_count": 50,
   "id": "6319609b-4e6b-45e9-9370-696869ea22cb",
   "metadata": {},
   "outputs": [
    {
     "data": {
      "text/plain": [
       "2426.9167075148816"
      ]
     },
     "execution_count": 50,
     "metadata": {},
     "output_type": "execute_result"
    }
   ],
   "source": [
    "cost_function(X, y, theta)"
   ]
  },
  {
   "cell_type": "code",
   "execution_count": 55,
   "id": "92265337-763d-4b49-910d-e800f1de7431",
   "metadata": {},
   "outputs": [],
   "source": [
    "def grad(X, y, theta):\n",
    "    m=len(y)\n",
    "    return 1/m * X.T.dot(model(X, theta)-y)"
   ]
  },
  {
   "cell_type": "code",
   "execution_count": 89,
   "id": "49a154f6-9a78-4788-9405-8a6dd03e253a",
   "metadata": {},
   "outputs": [],
   "source": [
    "def gradient_descent(X, y, theta, learning_rate, n_iteration):\n",
    "    cost_history= np.zeros(n_iteration)\n",
    "    for i in range(0, n_iteration):\n",
    "     theta = theta - learning_rate*grad(X, y, theta)\n",
    "     cost_history[i]=cost_function(X, y, theta)\n",
    "    return theta, cost_history"
   ]
  },
  {
   "cell_type": "code",
   "execution_count": 93,
   "id": "014af0b1-52e3-419a-934e-b2ddd8cfe8bb",
   "metadata": {},
   "outputs": [],
   "source": [
    "theta_final, cost_history = gradient_descent(X, y ,theta ,learning_rate=0.01, n_iteration=1000)"
   ]
  },
  {
   "cell_type": "code",
   "execution_count": 85,
   "id": "cefdad83-1f29-4dab-be5d-8f5b04db0d81",
   "metadata": {},
   "outputs": [
    {
     "data": {
      "text/plain": [
       "(array([[66.55487818],\n",
       "        [ 0.24882123]]),\n",
       " array([0., 0., 0., 0., 0., 0., 0., 0., 0., 0., 0., 0., 0., 0., 0., 0., 0.,\n",
       "        0., 0., 0., 0., 0., 0., 0., 0., 0., 0., 0., 0., 0., 0., 0., 0., 0.,\n",
       "        0., 0., 0., 0., 0., 0., 0., 0., 0., 0., 0., 0., 0., 0., 0., 0., 0.,\n",
       "        0., 0., 0., 0., 0., 0., 0., 0., 0., 0., 0., 0., 0., 0., 0., 0., 0.,\n",
       "        0., 0., 0., 0., 0., 0., 0., 0., 0., 0., 0., 0., 0., 0., 0., 0., 0.,\n",
       "        0., 0., 0., 0., 0., 0., 0., 0., 0., 0., 0., 0., 0., 0., 0., 0., 0.,\n",
       "        0., 0., 0., 0., 0., 0., 0., 0., 0., 0., 0., 0., 0., 0., 0., 0., 0.,\n",
       "        0., 0., 0., 0., 0., 0., 0., 0., 0., 0., 0., 0., 0., 0., 0., 0., 0.,\n",
       "        0., 0., 0., 0., 0., 0., 0., 0., 0., 0., 0., 0., 0., 0., 0., 0., 0.,\n",
       "        0., 0., 0., 0., 0., 0., 0., 0., 0., 0., 0., 0., 0., 0., 0., 0., 0.,\n",
       "        0., 0., 0., 0., 0., 0., 0., 0., 0., 0., 0., 0., 0., 0., 0., 0., 0.,\n",
       "        0., 0., 0., 0., 0., 0., 0., 0., 0., 0., 0., 0., 0., 0., 0., 0., 0.,\n",
       "        0., 0., 0., 0., 0., 0., 0., 0., 0., 0., 0., 0., 0., 0., 0., 0., 0.,\n",
       "        0., 0., 0., 0., 0., 0., 0., 0., 0., 0., 0., 0., 0., 0., 0., 0., 0.,\n",
       "        0., 0., 0., 0., 0., 0., 0., 0., 0., 0., 0., 0., 0., 0., 0., 0., 0.,\n",
       "        0., 0., 0., 0., 0., 0., 0., 0., 0., 0., 0., 0., 0., 0., 0., 0., 0.,\n",
       "        0., 0., 0., 0., 0., 0., 0., 0., 0., 0., 0., 0., 0., 0., 0., 0., 0.,\n",
       "        0., 0., 0., 0., 0., 0., 0., 0., 0., 0., 0., 0., 0., 0., 0., 0., 0.,\n",
       "        0., 0., 0., 0., 0., 0., 0., 0., 0., 0., 0., 0., 0., 0., 0., 0., 0.,\n",
       "        0., 0., 0., 0., 0., 0., 0., 0., 0., 0., 0., 0., 0., 0., 0., 0., 0.,\n",
       "        0., 0., 0., 0., 0., 0., 0., 0., 0., 0., 0., 0., 0., 0., 0., 0., 0.,\n",
       "        0., 0., 0., 0., 0., 0., 0., 0., 0., 0., 0., 0., 0., 0., 0., 0., 0.,\n",
       "        0., 0., 0., 0., 0., 0., 0., 0., 0., 0., 0., 0., 0., 0., 0., 0., 0.,\n",
       "        0., 0., 0., 0., 0., 0., 0., 0., 0., 0., 0., 0., 0., 0., 0., 0., 0.,\n",
       "        0., 0., 0., 0., 0., 0., 0., 0., 0., 0., 0., 0., 0., 0., 0., 0., 0.,\n",
       "        0., 0., 0., 0., 0., 0., 0., 0., 0., 0., 0., 0., 0., 0., 0., 0., 0.,\n",
       "        0., 0., 0., 0., 0., 0., 0., 0., 0., 0., 0., 0., 0., 0., 0., 0., 0.,\n",
       "        0., 0., 0., 0., 0., 0., 0., 0., 0., 0., 0., 0., 0., 0., 0., 0., 0.,\n",
       "        0., 0., 0., 0., 0., 0., 0., 0., 0., 0., 0., 0., 0., 0., 0., 0., 0.,\n",
       "        0., 0., 0., 0., 0., 0., 0., 0., 0., 0., 0., 0., 0., 0., 0., 0., 0.,\n",
       "        0., 0., 0., 0., 0., 0., 0., 0., 0., 0., 0., 0., 0., 0., 0., 0., 0.,\n",
       "        0., 0., 0., 0., 0., 0., 0., 0., 0., 0., 0., 0., 0., 0., 0., 0., 0.,\n",
       "        0., 0., 0., 0., 0., 0., 0., 0., 0., 0., 0., 0., 0., 0., 0., 0., 0.,\n",
       "        0., 0., 0., 0., 0., 0., 0., 0., 0., 0., 0., 0., 0., 0., 0., 0., 0.,\n",
       "        0., 0., 0., 0., 0., 0., 0., 0., 0., 0., 0., 0., 0., 0., 0., 0., 0.,\n",
       "        0., 0., 0., 0., 0., 0., 0., 0., 0., 0., 0., 0., 0., 0., 0., 0., 0.,\n",
       "        0., 0., 0., 0., 0., 0., 0., 0., 0., 0., 0., 0., 0., 0., 0., 0., 0.,\n",
       "        0., 0., 0., 0., 0., 0., 0., 0., 0., 0., 0., 0., 0., 0., 0., 0., 0.,\n",
       "        0., 0., 0., 0., 0., 0., 0., 0., 0., 0., 0., 0., 0., 0., 0., 0., 0.,\n",
       "        0., 0., 0., 0., 0., 0., 0., 0., 0., 0., 0., 0., 0., 0., 0., 0., 0.,\n",
       "        0., 0., 0., 0., 0., 0., 0., 0., 0., 0., 0., 0., 0., 0., 0., 0., 0.,\n",
       "        0., 0., 0., 0., 0., 0., 0., 0., 0., 0., 0., 0., 0., 0., 0., 0., 0.,\n",
       "        0., 0., 0., 0., 0., 0., 0., 0., 0., 0., 0., 0., 0., 0., 0., 0., 0.,\n",
       "        0., 0., 0., 0., 0., 0., 0., 0., 0., 0., 0., 0., 0., 0., 0., 0., 0.,\n",
       "        0., 0., 0., 0., 0., 0., 0., 0., 0., 0., 0., 0., 0., 0., 0., 0., 0.,\n",
       "        0., 0., 0., 0., 0., 0., 0., 0., 0., 0., 0., 0., 0., 0., 0., 0., 0.,\n",
       "        0., 0., 0., 0., 0., 0., 0., 0., 0., 0., 0., 0., 0., 0., 0., 0., 0.,\n",
       "        0., 0., 0., 0., 0., 0., 0., 0., 0., 0., 0., 0., 0., 0., 0., 0., 0.,\n",
       "        0., 0., 0., 0., 0., 0., 0., 0., 0., 0., 0., 0., 0., 0., 0., 0., 0.,\n",
       "        0., 0., 0., 0., 0., 0., 0., 0., 0., 0., 0., 0., 0., 0., 0., 0., 0.,\n",
       "        0., 0., 0., 0., 0., 0., 0., 0., 0., 0., 0., 0., 0., 0., 0., 0., 0.,\n",
       "        0., 0., 0., 0., 0., 0., 0., 0., 0., 0., 0., 0., 0., 0., 0., 0., 0.,\n",
       "        0., 0., 0., 0., 0., 0., 0., 0., 0., 0., 0., 0., 0., 0., 0., 0., 0.,\n",
       "        0., 0., 0., 0., 0., 0., 0., 0., 0., 0., 0., 0., 0., 0., 0., 0., 0.,\n",
       "        0., 0., 0., 0., 0., 0., 0., 0., 0., 0., 0., 0., 0., 0., 0., 0., 0.,\n",
       "        0., 0., 0., 0., 0., 0., 0., 0., 0., 0., 0., 0., 0., 0., 0., 0., 0.,\n",
       "        0., 0., 0., 0., 0., 0., 0., 0., 0., 0., 0., 0., 0., 0., 0., 0., 0.,\n",
       "        0., 0., 0., 0., 0., 0., 0., 0., 0., 0., 0., 0., 0., 0., 0., 0., 0.,\n",
       "        0., 0., 0., 0., 0., 0., 0., 0., 0., 0., 0., 0., 0., 0.]))"
      ]
     },
     "execution_count": 85,
     "metadata": {},
     "output_type": "execute_result"
    }
   ],
   "source": [
    "theta_final "
   ]
  },
  {
   "cell_type": "code",
   "execution_count": 87,
   "id": "a82d8025-93e9-489c-a5b8-d526cfa37d55",
   "metadata": {},
   "outputs": [
    {
     "ename": "ValueError",
     "evalue": "setting an array element with a sequence. The requested array has an inhomogeneous shape after 1 dimensions. The detected shape was (2,) + inhomogeneous part.",
     "output_type": "error",
     "traceback": [
      "\u001b[1;31m---------------------------------------------------------------------------\u001b[0m",
      "\u001b[1;31mValueError\u001b[0m                                Traceback (most recent call last)",
      "Cell \u001b[1;32mIn[87], line 1\u001b[0m\n\u001b[1;32m----> 1\u001b[0m predictions \u001b[38;5;241m=\u001b[39m model(X, theta_final)\n\u001b[0;32m      2\u001b[0m plt\u001b[38;5;241m.\u001b[39mscatter(x, y)\n\u001b[0;32m      3\u001b[0m plt\u001b[38;5;241m.\u001b[39mplot(x, predictions, c\u001b[38;5;241m=\u001b[39m\u001b[38;5;124m'\u001b[39m\u001b[38;5;124mr\u001b[39m\u001b[38;5;124m'\u001b[39m)\n",
      "Cell \u001b[1;32mIn[40], line 2\u001b[0m, in \u001b[0;36mmodel\u001b[1;34m(X, theta)\u001b[0m\n\u001b[0;32m      1\u001b[0m \u001b[38;5;28;01mdef\u001b[39;00m \u001b[38;5;21mmodel\u001b[39m(X, theta): \n\u001b[1;32m----> 2\u001b[0m     \u001b[38;5;28;01mreturn\u001b[39;00m X\u001b[38;5;241m.\u001b[39mdot(theta)\n",
      "\u001b[1;31mValueError\u001b[0m: setting an array element with a sequence. The requested array has an inhomogeneous shape after 1 dimensions. The detected shape was (2,) + inhomogeneous part."
     ]
    }
   ],
   "source": [
    "predictions = model(X, theta_final)\n",
    "plt.scatter(x, y)\n",
    "plt.plot(x, predictions, c='r')"
   ]
  },
  {
   "cell_type": "code",
   "execution_count": 95,
   "id": "f4033a06-6b7d-416c-a667-ed67aff4d82a",
   "metadata": {},
   "outputs": [
    {
     "data": {
      "text/plain": [
       "[<matplotlib.lines.Line2D at 0x236fb3384a0>]"
      ]
     },
     "execution_count": 95,
     "metadata": {},
     "output_type": "execute_result"
    },
    {
     "data": {
      "image/png": "[encoded data removed]",
      "text/plain": [
       "<Figure size 640x480 with 1 Axes>"
      ]
     },
     "metadata": {},
     "output_type": "display_data"
    }
   ],
   "source": [
    "cost_function(X, y, theta_final)\n",
    "plt.plot(range(1000), cost_history)"
   ]
  },
  {
   "cell_type": "code",
   "execution_count": null,
   "id": "84adf072-4cda-46d4-8c3b-985430e9cc34",
   "metadata": {},
   "outputs": [],
   "source": []
  }
 ],
 "metadata": {
  "kernelspec": {
   "display_name": "Python 3 (ipykernel)",
   "language": "python",
   "name": "python3"
  },
  "language_info": {
   "codemirror_mode": {
    "name": "ipython",
    "version": 3
   },
   "file_extension": ".py",
   "mimetype": "text/x-python",
   "name": "python",
   "nbconvert_exporter": "python",
   "pygments_lexer": "ipython3",
   "version": "3.12.7"
  }
 },
 "nbformat": 4,
 "nbformat_minor": 5
}
